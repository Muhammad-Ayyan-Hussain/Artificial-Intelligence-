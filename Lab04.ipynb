{
 "cells": [
  {
   "cell_type": "code",
   "execution_count": 1,
   "id": "1a7913d3",
   "metadata": {},
   "outputs": [
    {
     "name": "stdout",
     "output_type": "stream",
     "text": [
      "Employee Name: Ayyan Hussain\n",
      "Employee Age: 22\n",
      "Designation: Manager\n",
      "Salary: 80000\n"
     ]
    }
   ],
   "source": [
    "#Task 01\n",
    "class Person:\n",
    "    def details(self,name,age):\n",
    "        self.name=name\n",
    "        self.age=age\n",
    "class Job:\n",
    "    def details(self,designation,salary):\n",
    "        self.designation=designation\n",
    "        self.salary=salary\n",
    "class Employee(Person,Job):\n",
    "    def details(self,name,age,designation,salary):\n",
    "        Person.details(self,name,age)\n",
    "        Job.details(self,designation,salary)\n",
    "    def display_details(self):\n",
    "        print(\"Employee Name:\",self.name)\n",
    "        print(\"Employee Age:\",self.age)\n",
    "        print(\"Designation:\",self.designation)\n",
    "        print(\"Salary:\",self.salary)\n",
    "emp1=Employee()\n",
    "emp1.details(\"Ayyan Hussain\",22,\"Manager\",80000)\n",
    "emp1.display_details()\n"
   ]
  },
  {
   "cell_type": "code",
   "execution_count": 2,
   "id": "ea1bfd68",
   "metadata": {},
   "outputs": [
    {
     "name": "stdout",
     "output_type": "stream",
     "text": [
      "Area of Circle: 50.24\n",
      "Perimeter of Circle: 25.12\n"
     ]
    }
   ],
   "source": [
    "#Task 02\n",
    "class Circle:\n",
    "    def rad(self,radius):\n",
    "        self.radius=radius\n",
    "    def area(self):\n",
    "        return (3.14*self.radius*self.radius)\n",
    "    def perimeter(self):\n",
    "        return (2*3.14*self.radius)\n",
    "\n",
    "r=float(input(\"Enter the radius of the circle:\"))\n",
    "c=Circle()\n",
    "c.rad(r)\n",
    "print(\"Area of Circle:\",c.area())\n",
    "print(\"Perimeter of Circle:\",c.perimeter())\n"
   ]
  },
  {
   "cell_type": "code",
   "execution_count": 3,
   "id": "ebb841bb",
   "metadata": {},
   "outputs": [
    {
     "name": "stdout",
     "output_type": "stream",
     "text": [
      "-2.0 raised to power 5 is: -32.0\n"
     ]
    }
   ],
   "source": [
    "#Task 03\n",
    "class Power:\n",
    "    def findpower(self,x,n):\n",
    "        result=1\n",
    "        if n>0:\n",
    "            for i in range(n):\n",
    "                result=result*x\n",
    "        elif n<0:\n",
    "            for i in range(-n):\n",
    "                result=result*x\n",
    "            result=1/result\n",
    "        else:\n",
    "            result=1\n",
    "        return result\n",
    "\n",
    "x=float(input(\"Enter the base number (x): \"))\n",
    "n=int(input(\"Enter the power: \"))\n",
    "p=Power()\n",
    "ans=p.findpower(x,n)\n",
    "print(x,\"raised to power\",n,\"is:\",ans)\n",
    "\n"
   ]
  },
  {
   "cell_type": "code",
   "execution_count": 4,
   "id": "99383184",
   "metadata": {},
   "outputs": [
    {
     "name": "stdout",
     "output_type": "stream",
     "text": [
      "Item Name: Araha hu main\n",
      "Description: A popular track\n",
      "Price: Rs 60\n",
      "Playing  Araha hu main  by  Atif Aslam\n",
      "Downloading  Araha hu main  by  Atif Aslam\n",
      "\n",
      "------------------\n",
      "\n",
      "Item Name: John Wick 4\n",
      "Description: An action movie\n",
      "Price: Rs 1500\n",
      "Viewing trailer for  John Wick 4\n",
      "\n",
      "------------------\n",
      "\n",
      "Item Name: 100M Offers\n",
      "Description: Book about improving sales\n",
      "Price: Rs 1000\n",
      "Previewing content of the book:  100M Offers\n"
     ]
    }
   ],
   "source": [
    "#Task 04\n",
    "class Item:\n",
    "    name=\"\"\n",
    "    description=\"\"\n",
    "    price=0.0\n",
    "\n",
    "    def viewFullDescription(self):\n",
    "        print(\"Item Name:\",self.name)\n",
    "        print(\"Description:\",self.description)\n",
    "        print(\"Price: Rs\",self.price)\n",
    "\n",
    "    def addToShoppingBasket(self):\n",
    "        print(self.name,\"added to shopping basket.\")\n",
    "\n",
    "    def removeFromShoppingBasket(self):\n",
    "        print(self.name,\"removed from shopping basket.\")\n",
    "\n",
    "class MP3(Item):\n",
    "    artist=\"\"\n",
    "    duration=0\n",
    "    def play(self):\n",
    "        print(\"Playing \",self.name,\" by \",self.artist)\n",
    "\n",
    "    def download(self):\n",
    "        print(\"Downloading \",self.name,\" by \",self.artist)\n",
    "\n",
    "class DVD(Item):\n",
    "    certificate=\"\"\n",
    "    duration=0\n",
    "    actors=\"\"\n",
    "\n",
    "    def viewTrailer(self):\n",
    "        print(\"Viewing trailer for \",self.name)\n",
    "\n",
    "class Book(Item):\n",
    "    author=\"\"\n",
    "    numberOfPages=0\n",
    "    genre=\"\"\n",
    "\n",
    "    def previewContent(self):\n",
    "        print(\"Previewing content of the book: \", self.name)\n",
    "\n",
    "mp3=MP3()\n",
    "mp3.name=\"Araha hu main\"\n",
    "mp3.description=\"A popular track\"\n",
    "mp3.price=60\n",
    "mp3.artist=\"Atif Aslam\"\n",
    "mp3.duration=3\n",
    "\n",
    "dvd=DVD()\n",
    "dvd.name=\"John Wick 4\"\n",
    "dvd.description=\"An action movie\"\n",
    "dvd.price=1500\n",
    "dvd.certificate=\"18 plus\"\n",
    "dvd.duration=210\n",
    "dvd.actors=\"Kenu Reeves\"\n",
    "\n",
    "book = Book()\n",
    "book.name=\"100M Offers\"\n",
    "book.description=\"Book about improving sales\"\n",
    "book.price=1000\n",
    "book.author=\"Alex Hormozi\"\n",
    "book.numberOfPages=160\n",
    "book.genre=\"Business\"\n",
    "\n",
    "mp3.viewFullDescription()\n",
    "mp3.play()\n",
    "mp3.download()\n",
    "\n",
    "print(\"\\n------------------\\n\")\n",
    "\n",
    "dvd.viewFullDescription()\n",
    "dvd.viewTrailer()\n",
    "\n",
    "print(\"\\n------------------\\n\")\n",
    "\n",
    "book.viewFullDescription()\n",
    "book.previewContent()\n",
    "\n",
    "\n",
    "\n"
   ]
  }
 ],
 "metadata": {
  "kernelspec": {
   "display_name": "Python 3",
   "language": "python",
   "name": "python3"
  },
  "language_info": {
   "codemirror_mode": {
    "name": "ipython",
    "version": 3
   },
   "file_extension": ".py",
   "mimetype": "text/x-python",
   "name": "python",
   "nbconvert_exporter": "python",
   "pygments_lexer": "ipython3",
   "version": "3.13.7"
  }
 },
 "nbformat": 4,
 "nbformat_minor": 5
}
