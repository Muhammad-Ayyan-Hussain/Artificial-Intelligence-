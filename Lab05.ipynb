{
 "cells": [
  {
   "cell_type": "code",
   "execution_count": 1,
   "id": "f4b13c1d",
   "metadata": {},
   "outputs": [
    {
     "name": "stdout",
     "output_type": "stream",
     "text": [
      "Original array:\n",
      "[[0 1]\n",
      " [2 3]]\n",
      "Flattened array:\n",
      "[0 1 2 3]\n",
      "Maximum value of the flattened array: 3\n",
      "Minimum value of the flattened array: 0\n"
     ]
    }
   ],
   "source": [
    "#Lab Task 01\n",
    "import numpy as np\n",
    "arr=np.array([[0,1],[2,3]])\n",
    "print(\"Original array:\")\n",
    "print(arr)\n",
    "flatarr=arr.flatten()\n",
    "print(\"Flattened array:\")\n",
    "print(flatarr)\n",
    "max=flatarr.max()\n",
    "min=flatarr.min()\n",
    "print(\"Maximum value of the flattened array:\",max)\n",
    "print(\"Minimum value of the flattened array:\",min)\n"
   ]
  },
  {
   "cell_type": "code",
   "execution_count": 2,
   "id": "3d1cea9d",
   "metadata": {},
   "outputs": [
    {
     "name": "stdout",
     "output_type": "stream",
     "text": [
      "3x3 Matrix with values from 2 to 10:\n",
      "[[ 2  3  4]\n",
      " [ 5  6  7]\n",
      " [ 8  9 10]]\n"
     ]
    }
   ],
   "source": [
    "#Lab Task 02\n",
    "import numpy as np\n",
    "matrix=np.arange(2,11).reshape(3,3)\n",
    "print(\"3x3 Matrix with values from 2 to 10:\")\n",
    "print(matrix)\n"
   ]
  },
  {
   "cell_type": "code",
   "execution_count": 3,
   "id": "5db9bcf9",
   "metadata": {},
   "outputs": [
    {
     "name": "stdout",
     "output_type": "stream",
     "text": [
      "Original array:[1 2 3 4]\n",
      "Array converted to a float type:[1. 2. 3. 4.]\n"
     ]
    }
   ],
   "source": [
    "#Lab Task 03\n",
    "import numpy as np\n",
    "arr=np.array([1,2,3,4])\n",
    "print(\"Original array:\",end='')\n",
    "print(arr)\n",
    "floatarr=arr.astype(float)\n",
    "print(\"Array converted to a float type:\",end='')\n",
    "print(floatarr)\n"
   ]
  },
  {
   "cell_type": "code",
   "execution_count": 4,
   "id": "de47aca1",
   "metadata": {},
   "outputs": [
    {
     "name": "stdout",
     "output_type": "stream",
     "text": [
      "Matrix M1:\n",
      "[[5 5]\n",
      " [1 2]]\n",
      "Matrix M2:\n",
      "[[0 1]\n",
      " [1 0]]\n",
      "(M1×M2):\n",
      "[[5 5]\n",
      " [2 1]]\n",
      "Transpose of (M1xM2):\n",
      "[[5 2]\n",
      " [5 1]]\n"
     ]
    }
   ],
   "source": [
    "#Lab Task 04\n",
    "import numpy as np\n",
    "M1=np.array([[5,5],[1,2]])\n",
    "M2=np.array([[0,1],[1,0]])\n",
    "print(\"Matrix M1:\")\n",
    "print(M1)\n",
    "print(\"Matrix M2:\")\n",
    "print(M2)\n",
    "result=np.dot(M1,M2)\n",
    "print(\"(M1×M2):\")\n",
    "print(result)\n",
    "transpose=result.T\n",
    "print(\"Transpose of (M1xM2):\")\n",
    "print(transpose)\n",
    "\n"
   ]
  },
  {
   "cell_type": "code",
   "execution_count": 5,
   "id": "dfa13e99",
   "metadata": {},
   "outputs": [
    {
     "name": "stdout",
     "output_type": "stream",
     "text": [
      "Original matrix A:\n",
      "[[ 6  1  1  3]\n",
      " [ 4 -2  5  1]\n",
      " [ 2  8  7  6]\n",
      " [ 3  1  9  7]]\n",
      "Determinant of A: -1309.0000000000005\n",
      "Inverse of matrix A:\n",
      "[[ 0.13368984  0.10695187  0.02139037 -0.09090909]\n",
      " [-0.00229183  0.02673797  0.14820474 -0.12987013]\n",
      " [-0.12987013  0.18181818  0.06493506 -0.02597403]\n",
      " [ 0.11000764 -0.28342246 -0.11382735  0.23376623]]\n"
     ]
    }
   ],
   "source": [
    "#Lab Task 05\n",
    "import numpy as np\n",
    "A=np.array([[6,1,1,3],[4,-2,5,1],[2,8,7,6],[3,1,9,7]])\n",
    "print(\"Original matrix A:\")\n",
    "print(A)\n",
    "det=np.linalg.det(A)\n",
    "print(\"Determinant of A:\",det)\n",
    "A_inv=np.linalg.inv(A)\n",
    "np.set_printoptions(precision=8,suppress=True)\n",
    "print(\"Inverse of matrix A:\")\n",
    "print(A_inv)\n"
   ]
  }
 ],
 "metadata": {
  "kernelspec": {
   "display_name": "Python 3",
   "language": "python",
   "name": "python3"
  },
  "language_info": {
   "codemirror_mode": {
    "name": "ipython",
    "version": 3
   },
   "file_extension": ".py",
   "mimetype": "text/x-python",
   "name": "python",
   "nbconvert_exporter": "python",
   "pygments_lexer": "ipython3",
   "version": "3.13.7"
  }
 },
 "nbformat": 4,
 "nbformat_minor": 5
}
