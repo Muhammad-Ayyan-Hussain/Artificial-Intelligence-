{
 "cells": [
  {
   "cell_type": "code",
   "execution_count": 3,
   "id": "d7f0bc27",
   "metadata": {},
   "outputs": [
    {
     "name": "stdout",
     "output_type": "stream",
     "text": [
      "Factorial of 5 is: 120\n"
     ]
    }
   ],
   "source": [
    "#Task 01\n",
    "def fact(num):\n",
    "    if num<0:\n",
    "        return \"Sorry, factorial does not exist for negative numbers.\"\n",
    "    elif num==0:\n",
    "        return 1\n",
    "    else:\n",
    "        fact=1\n",
    "        for i in range(1,(num+1)):\n",
    "            fact=fact*i\n",
    "        return fact\n",
    "n=int(input(\"Enter a number: \"))\n",
    "print(\"Factorial of\",n,\"is:\",fact(n))\n"
   ]
  },
  {
   "cell_type": "code",
   "execution_count": 4,
   "id": "5bb5e082",
   "metadata": {},
   "outputs": [
    {
     "name": "stdout",
     "output_type": "stream",
     "text": [
      "Original List: [1, 2, 3, 3, 4, 4, 5, 3, 7, 5]\n",
      "Unique List: [1, 2, 3, 4, 5, 7]\n"
     ]
    }
   ],
   "source": [
    "#Task 02\n",
    "def lists(glist):\n",
    "    nlist=[]\n",
    "    for item in glist:\n",
    "        if item not in nlist:\n",
    "            nlist.append(item)\n",
    "    return nlist\n",
    "sample=[1,2,3,3,4,4,5,3,7,5]\n",
    "print(\"Original List:\",sample)\n",
    "print(\"Unique List:\",lists(sample))\n",
    "\n"
   ]
  },
  {
   "cell_type": "code",
   "execution_count": 5,
   "id": "0cbf355a",
   "metadata": {},
   "outputs": [
    {
     "name": "stdout",
     "output_type": "stream",
     "text": [
      "First  4  even numbers are: [2, 4, 6, 8]\n",
      "Sum of even numbers: 20\n",
      "Product of even numbers: 384\n"
     ]
    }
   ],
   "source": [
    "#Task 03\n",
    "def even_numbers(num):\n",
    "    evnum=[]\n",
    "    for i in range(1,(num+1)):\n",
    "        evnum.append(i*2)\n",
    "    print(\"First \",num,\" even numbers are:\",evnum)\n",
    "    return evnum\n",
    "number=int(input(\"Enter how many even numbers you want:\"))\n",
    "result=even_numbers(number)\n",
    "total=sum(result)\n",
    "product=1\n",
    "for x in result:\n",
    "    product=product*x\n",
    "print(\"Sum of even numbers:\",total)\n",
    "print(\"Product of even numbers:\",product)\n",
    "\n"
   ]
  },
  {
   "cell_type": "code",
   "execution_count": 8,
   "id": "03ee9b5b",
   "metadata": {},
   "outputs": [
    {
     "name": "stdout",
     "output_type": "stream",
     "text": [
      "Both strings are same.\n"
     ]
    }
   ],
   "source": [
    "#Task 04\n",
    "def match_string(str1,str2):\n",
    "    if str1==str2:\n",
    "        return True\n",
    "    else:\n",
    "        return False\n",
    "first=input(\"Enter first string: \")\n",
    "second=input(\"Enter second string: \")\n",
    "if match_string(first,second):\n",
    "    print(\"Both strings are same.\")\n",
    "else:\n",
    "    print(\"Strings are not same.\")\n",
    "\n"
   ]
  },
  {
   "cell_type": "code",
   "execution_count": 11,
   "id": "bce7a68d",
   "metadata": {},
   "outputs": [
    {
     "name": "stdout",
     "output_type": "stream",
     "text": [
      "Login Successful!!!!\n"
     ]
    }
   ],
   "source": [
    "#Task 05\n",
    "def login_system(username,password):\n",
    "    if username==\"ayyan\" and password==\"56789\":\n",
    "        print(\"Login Successful!!!!\")\n",
    "    else:\n",
    "        print(\"Invalid username or password.\")\n",
    "user=input(\"Enter username:\")\n",
    "passwd=input(\"Enter password:\")\n",
    "login_system(user,passwd)\n"
   ]
  }
 ],
 "metadata": {
  "kernelspec": {
   "display_name": "Python 3",
   "language": "python",
   "name": "python3"
  },
  "language_info": {
   "codemirror_mode": {
    "name": "ipython",
    "version": 3
   },
   "file_extension": ".py",
   "mimetype": "text/x-python",
   "name": "python",
   "nbconvert_exporter": "python",
   "pygments_lexer": "ipython3",
   "version": "3.13.7"
  }
 },
 "nbformat": 4,
 "nbformat_minor": 5
}
